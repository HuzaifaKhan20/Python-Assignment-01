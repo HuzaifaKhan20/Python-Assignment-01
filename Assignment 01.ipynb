{
 "cells": [
  {
   "cell_type": "code",
   "execution_count": 1,
   "id": "e292746c-5c91-4e63-ad75-cda2e7f30c78",
   "metadata": {},
   "outputs": [
    {
     "data": {
      "text/plain": [
       "['20k', '40k', '50k', '60k', '35k', '89k', '40k']"
      ]
     },
     "execution_count": 1,
     "metadata": {},
     "output_type": "execute_result"
    }
   ],
   "source": [
    "salaries = ['20k', '40k', '50k', '60k', '35k', '89k','40k']\n",
    "salaries"
   ]
  },
  {
   "cell_type": "code",
   "execution_count": 2,
   "id": "3888b663-4914-410e-b404-3bc35163f05e",
   "metadata": {},
   "outputs": [
    {
     "data": {
      "text/plain": [
       "7"
      ]
     },
     "execution_count": 2,
     "metadata": {},
     "output_type": "execute_result"
    }
   ],
   "source": [
    "# 1. What is the length of the salaries list.\n",
    "\n",
    "len(salaries)"
   ]
  },
  {
   "cell_type": "code",
   "execution_count": 3,
   "id": "487f1cf7-bc43-4a26-9b05-79c4d3ace69e",
   "metadata": {},
   "outputs": [
    {
     "data": {
      "text/plain": [
       "'50k'"
      ]
     },
     "execution_count": 3,
     "metadata": {},
     "output_type": "execute_result"
    }
   ],
   "source": [
    "# 2. Retrieve the third salary in the list by using index.\n",
    "\n",
    "salaries[2]"
   ]
  },
  {
   "cell_type": "code",
   "execution_count": 4,
   "id": "03166ad6-0b47-46fb-b0f3-a84570922d6d",
   "metadata": {},
   "outputs": [
    {
     "data": {
      "text/plain": [
       "'40k'"
      ]
     },
     "execution_count": 4,
     "metadata": {},
     "output_type": "execute_result"
    }
   ],
   "source": [
    "# 3. Extract the last salary from the list by using a negative index.\n",
    "\n",
    "salaries[-1]"
   ]
  },
  {
   "cell_type": "code",
   "execution_count": 5,
   "id": "c5d028f4-84c4-4f6d-b7ea-153f8464633b",
   "metadata": {},
   "outputs": [
    {
     "data": {
      "text/plain": [
       "['50k', '60k', '35k']"
      ]
     },
     "execution_count": 5,
     "metadata": {},
     "output_type": "execute_result"
    }
   ],
   "source": [
    "# 4. Slice the salaries list to get only the middle three salaries.\n",
    "\n",
    "salaries[2:5]"
   ]
  },
  {
   "cell_type": "code",
   "execution_count": 6,
   "id": "68c40b82-68c4-4202-ac4b-dc80f3c331bd",
   "metadata": {},
   "outputs": [
    {
     "data": {
      "text/plain": [
       "['20k', '40k', '50k', '60k', '35k', '89k', '40k', '100k']"
      ]
     },
     "execution_count": 6,
     "metadata": {},
     "output_type": "execute_result"
    }
   ],
   "source": [
    "# 5. Add a new salary to the list, ‘100k’ by using append() method.\n",
    "\n",
    "salaries.append('100k')\n",
    "salaries"
   ]
  },
  {
   "cell_type": "code",
   "execution_count": 14,
   "id": "6aff70bb-3644-454a-92ab-1651f59f6ecf",
   "metadata": {},
   "outputs": [],
   "source": [
    "# 5. Add a new salary to the list, ‘120k’ without method.\n",
    "\n",
    "salaries += ['120k']"
   ]
  },
  {
   "cell_type": "code",
   "execution_count": 16,
   "id": "0bb6621d-b58b-400f-a341-3ab3b203246c",
   "metadata": {},
   "outputs": [
    {
     "data": {
      "text/plain": [
       "['20k', '40k', '50k', '60k', '35k', '89k', '40k', '100k', '120k']"
      ]
     },
     "execution_count": 16,
     "metadata": {},
     "output_type": "execute_result"
    }
   ],
   "source": [
    "salaries"
   ]
  },
  {
   "cell_type": "code",
   "execution_count": 18,
   "id": "d8f3dbc3-64f5-45ec-92a0-393267c90655",
   "metadata": {},
   "outputs": [
    {
     "data": {
      "text/plain": [
       "['20k', '40k', '55k', '60k', '35k', '89k', '40k', '100k', '120k']"
      ]
     },
     "execution_count": 18,
     "metadata": {},
     "output_type": "execute_result"
    }
   ],
   "source": [
    "# 6. Replace the third salary in the list with '55k' and print the updated list.\n",
    "\n",
    "salaries[2] = '55k'\n",
    "salaries"
   ]
  },
  {
   "cell_type": "code",
   "execution_count": 20,
   "id": "802d8149-6d66-4cc5-897b-9ce99b9fda81",
   "metadata": {},
   "outputs": [
    {
     "data": {
      "text/plain": [
       "2"
      ]
     },
     "execution_count": 20,
     "metadata": {},
     "output_type": "execute_result"
    }
   ],
   "source": [
    "# 7. Count how many times '40k' appears in the list.\n",
    "\n",
    "salaries.count('40k')"
   ]
  },
  {
   "cell_type": "code",
   "execution_count": 22,
   "id": "a2af211a-bde2-4489-abf7-ca061102b16f",
   "metadata": {},
   "outputs": [],
   "source": [
    "# 8. Insert a new salary at the second position.\n",
    "\n",
    "salaries.insert(1, '25k')"
   ]
  },
  {
   "cell_type": "code",
   "execution_count": 24,
   "id": "673641f7-e15e-4683-b6e1-7e9d87a99d5d",
   "metadata": {},
   "outputs": [
    {
     "data": {
      "text/plain": [
       "['20k', '25k', '40k', '55k', '60k', '35k', '89k', '40k', '100k', '120k']"
      ]
     },
     "execution_count": 24,
     "metadata": {},
     "output_type": "execute_result"
    }
   ],
   "source": [
    "salaries"
   ]
  },
  {
   "cell_type": "code",
   "execution_count": 26,
   "id": "597af65f-7487-4763-a4fc-41eedfaeea2c",
   "metadata": {},
   "outputs": [],
   "source": [
    "# 9. Reverse the order of the salaries list with method.\n",
    "\n",
    "salaries.reverse()"
   ]
  },
  {
   "cell_type": "code",
   "execution_count": 28,
   "id": "b97cf946-f257-4150-8b6b-5a1c257ec7cc",
   "metadata": {},
   "outputs": [
    {
     "data": {
      "text/plain": [
       "['120k', '100k', '40k', '89k', '35k', '60k', '55k', '40k', '25k', '20k']"
      ]
     },
     "execution_count": 28,
     "metadata": {},
     "output_type": "execute_result"
    }
   ],
   "source": [
    "salaries"
   ]
  },
  {
   "cell_type": "code",
   "execution_count": 32,
   "id": "19d3c1e5-435f-49b4-ad72-ba1947921bcf",
   "metadata": {},
   "outputs": [
    {
     "data": {
      "text/plain": [
       "['20k', '25k', '40k', '55k', '60k', '35k', '89k', '40k', '100k', '120k']"
      ]
     },
     "execution_count": 32,
     "metadata": {},
     "output_type": "execute_result"
    }
   ],
   "source": [
    "# 10. Reverse the order of the salaries list without method.\n",
    "\n",
    "reversed_salaries = salaries[::-1]\n",
    "reversed_salaries"
   ]
  },
  {
   "cell_type": "code",
   "execution_count": null,
   "id": "bdce3d71-22d5-4528-88ed-9886cd1114e6",
   "metadata": {},
   "outputs": [],
   "source": []
  }
 ],
 "metadata": {
  "kernelspec": {
   "display_name": "Python 3 (ipykernel)",
   "language": "python",
   "name": "python3"
  },
  "language_info": {
   "codemirror_mode": {
    "name": "ipython",
    "version": 3
   },
   "file_extension": ".py",
   "mimetype": "text/x-python",
   "name": "python",
   "nbconvert_exporter": "python",
   "pygments_lexer": "ipython3",
   "version": "3.12.7"
  }
 },
 "nbformat": 4,
 "nbformat_minor": 5
}
